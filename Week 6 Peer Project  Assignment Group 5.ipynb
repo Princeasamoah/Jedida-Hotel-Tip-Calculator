{
 "cells": [
  {
   "cell_type": "code",
   "execution_count": 1,
   "id": "c972e80f",
   "metadata": {},
   "outputs": [
    {
     "name": "stdout",
     "output_type": "stream",
     "text": [
      "Q1 The total price Average for all products is: Ghs  33.33\n",
      "Q2 Reduced Prices are: Ghs  [25, 20, 35, 15, 15, 30, 40, 45, 30]\n",
      "Q3 The total revenue generated the product is:Ghs  1400\n",
      "Q4 The average dailay revenue generated from the products is: Ghs  200.0\n",
      "Q5 The products less than GHs 30 are:  ['Sankofa Foods', 'Jamestown Coffee', 'Blue Skies Ice Cream', 'Fair Afric Chocolate']\n"
     ]
    }
   ],
   "source": [
    "#Q1 calculate the total price average for all products\n",
    "prices = [30, 25, 40, 20, 20, 35, 45, 50, 35]\n",
    "\n",
    "#sum and len for all the products\n",
    "sum_prices = sum(prices)\n",
    "\n",
    "len_prices = len(prices)\n",
    "\n",
    "#average for all the products\n",
    "Average = sum_prices / len_prices\n",
    "print(\"Q1 The total price Average for all products is: Ghs \", round(Average, 2))\n",
    "\n",
    "#=================================================================================\n",
    "\n",
    "# Q2 create a new price list that reduces the old prices by GHC5\n",
    "prices = [30, 25, 40, 20, 20, 35, 45, 50, 35]\n",
    "\n",
    "#calculate the reduced_price\n",
    "reduced_prices = [x-5 for x in prices]\n",
    "\n",
    "print(\"Q2 Reduced Prices are: Ghs \",reduced_prices)\n",
    "\n",
    "\n",
    "#================================================================================\n",
    "#Q3 calculate the total revenue generated from the products\n",
    "\n",
    "prices = [30, 25, 40, 20, 20, 35, 45, 50, 35]\n",
    "last_week = [2, 3, 5, 8, 4, 4, 6, 2, 9]\n",
    "\n",
    "#calculate revenue generated\n",
    "\n",
    "Result = []\n",
    "for k1, k2 in zip(prices, last_week):\n",
    "    Result.append(k1*k2)\n",
    "    \n",
    "#print(\"Revenue generated is: \", Result)\n",
    "\n",
    "#find te sum of the revenue generate\n",
    "sum = sum(Result)\n",
    "print(\"Q3 The total revenue generated the product is:Ghs \",sum)\n",
    " \n",
    "#==================================================================================\n",
    "#Q4 calculate the average daily revenue generated from the products\n",
    "\n",
    "Average = sum / 7\n",
    "print(\"Q4 The average dailay revenue generated from the products is: Ghs \",Average)\n",
    "\n",
    "#==================================================================================\n",
    "\n",
    "#Q5 based on the new prices, which products are less than GHC30 \n",
    "\n",
    "products = [\"Sankofa Foods\", \"Jamestown Coffee\", \"Bioko Chocolate\", \"Blue Skies Ice Cream\", \"Fair Afric Chocolate\", \"Kawa Moka Coffee\", \"Aphro Spirit\", \"Mensado Bissap\", \"Voltic\"]\n",
    "\n",
    "reduced_prices = [25, 20, 35, 15, 15, 30, 40, 45, 30]\n",
    "\n",
    "x = [index for index, value in enumerate(reduced_prices) if value < 30]\n",
    "y = [products[item] for item in x]\n",
    "print(\"Q5 The products less than GHs 30 are: \", y)\n",
    " \n"
   ]
  },
  {
   "cell_type": "code",
   "execution_count": null,
   "id": "4618e1e3",
   "metadata": {},
   "outputs": [],
   "source": []
  }
 ],
 "metadata": {
  "kernelspec": {
   "display_name": "Python 3 (ipykernel)",
   "language": "python",
   "name": "python3"
  },
  "language_info": {
   "codemirror_mode": {
    "name": "ipython",
    "version": 3
   },
   "file_extension": ".py",
   "mimetype": "text/x-python",
   "name": "python",
   "nbconvert_exporter": "python",
   "pygments_lexer": "ipython3",
   "version": "3.10.7"
  }
 },
 "nbformat": 4,
 "nbformat_minor": 5
}
